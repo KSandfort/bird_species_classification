{
 "cells": [
  {
   "cell_type": "code",
   "execution_count": 1,
   "id": "initial_id",
   "metadata": {
    "collapsed": true,
    "ExecuteTime": {
     "end_time": "2023-11-24T15:08:00.988300942Z",
     "start_time": "2023-11-24T15:07:58.218125650Z"
    }
   },
   "outputs": [
    {
     "name": "stderr",
     "output_type": "stream",
     "text": [
      "2023-11-24 16:07:58.714416: I external/local_tsl/tsl/cuda/cudart_stub.cc:31] Could not find cuda drivers on your machine, GPU will not be used.\n",
      "2023-11-24 16:07:58.937104: E external/local_xla/xla/stream_executor/cuda/cuda_dnn.cc:9261] Unable to register cuDNN factory: Attempting to register factory for plugin cuDNN when one has already been registered\n",
      "2023-11-24 16:07:58.937159: E external/local_xla/xla/stream_executor/cuda/cuda_fft.cc:607] Unable to register cuFFT factory: Attempting to register factory for plugin cuFFT when one has already been registered\n",
      "2023-11-24 16:07:58.980690: E external/local_xla/xla/stream_executor/cuda/cuda_blas.cc:1515] Unable to register cuBLAS factory: Attempting to register factory for plugin cuBLAS when one has already been registered\n",
      "2023-11-24 16:07:59.071573: I external/local_tsl/tsl/cuda/cudart_stub.cc:31] Could not find cuda drivers on your machine, GPU will not be used.\n",
      "2023-11-24 16:07:59.072984: I tensorflow/core/platform/cpu_feature_guard.cc:182] This TensorFlow binary is optimized to use available CPU instructions in performance-critical operations.\n",
      "To enable the following instructions: AVX2 FMA, in other operations, rebuild TensorFlow with the appropriate compiler flags.\n",
      "2023-11-24 16:08:00.081678: W tensorflow/compiler/tf2tensorrt/utils/py_utils.cc:38] TF-TRT Warning: Could not find TensorRT\n"
     ]
    }
   ],
   "source": [
    "# Imports\n",
    "\n",
    "# Import Data Science Libraries\n",
    "import numpy as np\n",
    "import pandas as pd\n",
    "import matplotlib.pyplot as plt\n",
    "import tensorflow as tf\n",
    "from sklearn.model_selection import train_test_split\n",
    "\n",
    "# Tensorflow Libraries\n",
    "import keras\n",
    "from keras_preprocessing.image import ImageDataGenerator\n",
    "\n",
    "# System libraries\n",
    "from pathlib import Path\n",
    "import os.path\n",
    "import random\n",
    "\n",
    "# Visualization Libraries\n",
    "import matplotlib.cm as cm\n",
    "import cv2\n",
    "import seaborn as sns\n",
    "\n",
    "sns.set_style('darkgrid')\n",
    "\n",
    "# Metrics\n",
    "from sklearn.metrics import classification_report, confusion_matrix\n",
    "import itertools\n"
   ]
  },
  {
   "cell_type": "code",
   "execution_count": 2,
   "outputs": [
    {
     "name": "stdout",
     "output_type": "stream",
     "text": [
      "Found 84635 images belonging to 525 classes.\n",
      "Found 2625 images belonging to 525 classes.\n",
      "Found 2625 images belonging to 525 classes.\n"
     ]
    }
   ],
   "source": [
    "# Load Data\n",
    "train_dir = \"input/train/\"\n",
    "test_dir = \"input/test/\"\n",
    "val_dir = \"input/valid/\"\n",
    "\n",
    "# Rescale\n",
    "train_datagen = ImageDataGenerator(rescale = 1./255)\n",
    "test_datagen = ImageDataGenerator(rescale = 1./255)\n",
    "valid_datagen = ImageDataGenerator(rescale = 1./255)\n",
    "\n",
    "# data transfer from directories to batches\n",
    "train_data = train_datagen.flow_from_directory(directory = train_dir,\n",
    "                                               batch_size= 32,\n",
    "                                               target_size= (224,224),\n",
    "                                               class_mode = \"categorical\")\n",
    "\n",
    "test_data = test_datagen.flow_from_directory(directory = test_dir,\n",
    "                                               batch_size = 32,\n",
    "                                               target_size = (224,224),\n",
    "                                               class_mode = \"categorical\")\n",
    "\n",
    "val_data = valid_datagen.flow_from_directory(directory = val_dir,\n",
    "                                               batch_size = 32,\n",
    "                                               target_size = (224,224),\n",
    "                                               class_mode = \"categorical\")\n",
    "\n",
    "\n"
   ],
   "metadata": {
    "collapsed": false,
    "ExecuteTime": {
     "end_time": "2023-11-24T15:08:04.844655545Z",
     "start_time": "2023-11-24T15:08:02.954796312Z"
    }
   },
   "id": "14a5cb396d99097"
  },
  {
   "cell_type": "code",
   "execution_count": 3,
   "outputs": [],
   "source": [
    "# Load EfficientNet model\n",
    "model = keras.models.load_model(\n",
    "    'models/EfficientNetB0-525-(224 X 224)- 98.97.h5', \n",
    "    custom_objects={'F1_score': 'F1_score'}\n",
    ")"
   ],
   "metadata": {
    "collapsed": false,
    "ExecuteTime": {
     "end_time": "2023-11-24T15:08:09.868893102Z",
     "start_time": "2023-11-24T15:08:06.935430057Z"
    }
   },
   "id": "b7da9b5f4a33271a"
  },
  {
   "cell_type": "code",
   "execution_count": 4,
   "outputs": [],
   "source": [
    "#print(model.summary())"
   ],
   "metadata": {
    "collapsed": false,
    "ExecuteTime": {
     "end_time": "2023-11-24T15:08:09.880745619Z",
     "start_time": "2023-11-24T15:08:09.869735318Z"
    }
   },
   "id": "6fdeeb4370d09b99"
  },
  {
   "cell_type": "code",
   "execution_count": 7,
   "outputs": [
    {
     "name": "stdout",
     "output_type": "stream",
     "text": [
      "Shape after passing inputs through base model: (None, 5, 5, 2048)\n",
      "Shape after GlobalAveragePooling2D: (None, 2048)\n",
      "Epoch 1/2\n",
      "2645/2645 [==============================] - 1898s 717ms/step - loss: 10.6750 - accuracy: 0.4768 - val_loss: 7.4472 - val_accuracy: 0.6422\n",
      "Epoch 2/2\n",
      "2645/2645 [==============================] - 1958s 740ms/step - loss: 7.7001 - accuracy: 0.6697 - val_loss: 7.3082 - val_accuracy: 0.7031\n"
     ]
    }
   ],
   "source": [
    "base_model = keras.applications.InceptionV3(include_top= False,)\n",
    "\n",
    "# 2. Freeze the base model\n",
    "base_model.trainable = False\n",
    "\n",
    "#3. Create inputs into models\n",
    "inputs = keras.layers.Input(shape =(224, 224, 3), name = \"input-layer\")\n",
    "\n",
    "#4. Rescaling\n",
    "#x = tf.keras.layers.experimental.preprocessing.Rescaling(1/255.)(inputs)\n",
    "\n",
    "#5. Pass the inputs \n",
    "x = base_model(inputs)\n",
    "print(f\"Shape after passing inputs through base model: {x.shape}\")\n",
    "\n",
    "# 6. Average pool the outputs of the base model\n",
    "x = keras.layers.GlobalAveragePooling2D(name = \"global_average_pooling_layer\")(x)\n",
    "print(f\"Shape after GlobalAveragePooling2D: {x.shape}\")\n",
    "\n",
    "#7. Create the output activation layer\n",
    "outputs = keras.layers.Dense(525, activation = \"softmax\", name = \"output-layer\")(x)\n",
    "\n",
    "# 8. Combine the inputs with outputs into a model\n",
    "model_0 = keras.Model(inputs, outputs)\n",
    "\n",
    "# 9. Compile the model\n",
    "model_0.compile(loss = \"categorical_crossentropy\",\n",
    "                optimizer = keras.optimizers.Adam(learning_rate = 0.01),\n",
    "                metrics = [\"accuracy\"])\n",
    "\n",
    "\n",
    "history = model_0.fit(train_data,\n",
    "                                 epochs=2,\n",
    "                                 steps_per_epoch = len(train_data),\n",
    "                                 validation_data = val_data,\n",
    "                                 validation_steps = int(0.25*len(val_data)),)\n",
    "\n",
    "model_0.save('models/model.keras')"
   ],
   "metadata": {
    "collapsed": false,
    "ExecuteTime": {
     "end_time": "2023-11-24T16:13:30.891751107Z",
     "start_time": "2023-11-24T15:09:12.130669248Z"
    }
   },
   "id": "8723ba19e61e7244"
  },
  {
   "cell_type": "code",
   "execution_count": null,
   "outputs": [],
   "source": [],
   "metadata": {
    "collapsed": false
   },
   "id": "7fe1152f60783bca"
  }
 ],
 "metadata": {
  "kernelspec": {
   "display_name": "Python 3",
   "language": "python",
   "name": "python3"
  },
  "language_info": {
   "codemirror_mode": {
    "name": "ipython",
    "version": 2
   },
   "file_extension": ".py",
   "mimetype": "text/x-python",
   "name": "python",
   "nbconvert_exporter": "python",
   "pygments_lexer": "ipython2",
   "version": "2.7.6"
  }
 },
 "nbformat": 4,
 "nbformat_minor": 5
}
